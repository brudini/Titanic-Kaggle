{
 "cells": [
  {
   "cell_type": "markdown",
   "metadata": {
    "pycharm": {
     "metadata": false
    }
   },
   "source": [
    "# **Titanic: Machine Learning from Disaster**\n"
   ]
  },
  {
   "cell_type": "markdown",
   "metadata": {},
   "source": [
    "# **Table of Contents**\n",
    "1. [INTRODUCTION](#intro)\n",
    "2. [EDA](#eda)\n",
    "    1. [Import de las librerias](#import)\n",
    "    2. [Lectura de dataset y explicacion de variables](#lectura)\n",
    "    3. [Analisis previo de las variables](#previo)\n",
    "    4. [Analisis profunda de variables](#profundidad)\n",
    "        1. [PassengerId : Identificador del pasajero](#PassengerId)\n",
    "        1. [Pclass : Clase del pasajero](#Pclass)\n",
    "        1. [Name : Nombre del pasajero](#Name)\n",
    "        1. [Sex : Sexo del pasajero](#Sex)\n",
    "        1. [Age : Edad del pasajero](#Age)\n",
    "        1. [SibSp : Number of passenger siblings/spouses](#SibSp)\n",
    "        1. [Parch : Number of passenger parents/childs](#Parch)\n",
    "        1. [Ticket : Ticket del pasajero](#Ticket)\n",
    "        1. [Fare : Coste de la cabina del pasajero](#Fare)\n",
    "        1. [Cabin : Number of the cabine passengers](#Cabin)\n",
    "        1. [Embarked : Name of the embarked passengers](#Embarked)\n",
    "        1. [Survived : Class predicted](#Survived)"
   ]
  },
  {
   "cell_type": "markdown",
   "metadata": {},
   "source": [
    "## **INTRODUCTION**\n",
    "<a id=\"intro\"></a>"
   ]
  },
  {
   "cell_type": "markdown",
   "metadata": {
    "pycharm": {
     "metadata": false
    }
   },
   "source": [
    "![alt text](https://www.ecestaticos.com/imagestatic/clipping/26e/bcf/26ebcf2a63d0b63123e145d395075ea9/la-verdadera-historia-de-como-se-encontro-el-titanic.jpg \"Logo Title Text 1\")\n",
    "\n",
    "The RMS Titanic was a British passenger liner that sank in the North Atlantic Ocean in the early hours of 15 April 1912, after colliding with a iceberg during her maiden voyage from Southampton to New York City. There were an estimated 2,224 passengers and crew aboard, and more than 1,500 died, making it one of the deadliest commercial peacetime maritime disasters in modern history.  \n",
    "Con esta breve introduccion de la historia de este dataset, se va a explicar el objetivo que se quiere obtener con este analisis, primero es obtener mayor conocimiento de las variables que se tuvieron en cuenta para poder saber que dependiero para que una persona sobreviviera en el **Titanic** y finalmente conseguir un modelo predictivo que sea capaz acertar con gran certeza si una persona sera capaz de sobrevivir o no.  \n",
    "Para ello este dataset esta separado en **Training** y **Test** para evaluar la tasa de acierto de nuestro modelo.  "
   ]
  },
  {
   "cell_type": "markdown",
   "metadata": {},
   "source": [
    "## **EDA**\n",
    "<a id=\"eda\"></a>"
   ]
  },
  {
   "cell_type": "markdown",
   "metadata": {},
   "source": [
    "### **Import de las librerias**\n",
    "<a id=\"import\"></a>"
   ]
  },
  {
   "cell_type": "code",
   "execution_count": 3,
   "metadata": {
    "pycharm": {
     "is_executing": false,
     "metadata": false,
     "name": "#%%\n"
    }
   },
   "outputs": [],
   "source": [
    "import numpy as np # linear algebra\n",
    "import pandas as pd # data processing, CSV file I/O (e.g. pd.read_csv)\n",
    "import seaborn as sns #plots\n",
    "import matplotlib.pyplot as plt\n",
    "%matplotlib inline\n",
    "pd.set_option('display.max_columns', 30)#max columns to 30"
   ]
  },
  {
   "cell_type": "markdown",
   "metadata": {},
   "source": [
    "### **Lectura de dataset y explicacion de variables**\n",
    "<a id=\"lectura\"></a>"
   ]
  },
  {
   "cell_type": "code",
   "execution_count": 4,
   "metadata": {
    "pycharm": {
     "is_executing": false,
     "metadata": false,
     "name": "#%%\n"
    }
   },
   "outputs": [
    {
     "name": "stdout",
     "output_type": "stream",
     "text": [
      "['PassengerId' 'Survived' 'Pclass' 'Name' 'Sex' 'Age' 'SibSp' 'Parch'\n",
      " 'Ticket' 'Fare' 'Cabin' 'Embarked']\n",
      "________________________________________\n"
     ]
    }
   ],
   "source": [
    "#lectura del dataset train y test\n",
    "train_df = pd.read_csv('./train.csv')\n",
    "test_df = pd.read_csv('./test.csv')\n",
    "print(train_df.columns.values)\n",
    "print('_'*40)"
   ]
  },
  {
   "cell_type": "markdown",
   "metadata": {},
   "source": [
    "This dataset have 12 colummns, which are:\n",
    "* PassengerId :  This variable is an identifier.\n",
    "* Pclass :  This variable muestra la clase que pertenece el pasajero.\n",
    "* Name :  This variable show the name of the passengers.\n",
    "* Sex :   This variable show the sex of the passengers.\n",
    "* Age :  This variable show age of the passengers.\n",
    "* SibSp :  This variable show he number of passenger siblings/spouses,\n",
    "* Parch :  This variable number of passenger parents/childs.\n",
    "* Ticket :  This variable show the name of the ticket passengers.\n",
    "* Fare :  This variable show the cost of the cabin.\n",
    "* Cabin : This variable show the number of the cabine passengers.\n",
    "* Embarked : This variable show the name of the embarked passengers.\n",
    "* Survived :  This variable is the class that I want predict, which show if one person survived or no."
   ]
  },
  {
   "cell_type": "markdown",
   "metadata": {},
   "source": [
    "### **Analisis previo de las variables**\n",
    "<a id=\"previo\"></a>"
   ]
  },
  {
   "cell_type": "markdown",
   "metadata": {},
   "source": [
    "Se va a realizar unas transformacion de los tipos de datos antes visualizar la descripcion de todos los atributos del dataset para obtener una vision de estos con mayor detalle.  \n",
    "Para empezar se va a realizar una tranformación del atributo Survived el cual is int and the values is 0 or 1(0=Not Survived, 1=Survived), se va ha realizar una conversion a True o False, el cual significa True= supervivencia y False=muerte."
   ]
  },
  {
   "cell_type": "code",
   "execution_count": 5,
   "metadata": {},
   "outputs": [],
   "source": [
    "train_df[\"Survived\"]=train_df[\"Survived\"].astype('bool')"
   ]
  },
  {
   "cell_type": "markdown",
   "metadata": {},
   "source": [
    "Luego los demas atributos categoricos, se van a transformar de tipo object a category para poder tener una descripcion detallada de forma de categoria y no de objeto."
   ]
  },
  {
   "cell_type": "code",
   "execution_count": 6,
   "metadata": {},
   "outputs": [
    {
     "name": "stdout",
     "output_type": "stream",
     "text": [
      "<class 'pandas.core.frame.DataFrame'>\n",
      "RangeIndex: 891 entries, 0 to 890\n",
      "Data columns (total 12 columns):\n",
      "PassengerId    891 non-null int64\n",
      "Survived       891 non-null bool\n",
      "Pclass         891 non-null category\n",
      "Name           891 non-null object\n",
      "Sex            891 non-null category\n",
      "Age            714 non-null float64\n",
      "SibSp          891 non-null int64\n",
      "Parch          891 non-null int64\n",
      "Ticket         891 non-null category\n",
      "Fare           891 non-null float64\n",
      "Cabin          204 non-null category\n",
      "Embarked       889 non-null category\n",
      "dtypes: bool(1), category(5), float64(2), int64(3), object(1)\n",
      "memory usage: 80.6+ KB\n"
     ]
    },
    {
     "data": {
      "text/html": [
       "<div>\n",
       "<style scoped>\n",
       "    .dataframe tbody tr th:only-of-type {\n",
       "        vertical-align: middle;\n",
       "    }\n",
       "\n",
       "    .dataframe tbody tr th {\n",
       "        vertical-align: top;\n",
       "    }\n",
       "\n",
       "    .dataframe thead th {\n",
       "        text-align: right;\n",
       "    }\n",
       "</style>\n",
       "<table border=\"1\" class=\"dataframe\">\n",
       "  <thead>\n",
       "    <tr style=\"text-align: right;\">\n",
       "      <th></th>\n",
       "      <th>PassengerId</th>\n",
       "      <th>Survived</th>\n",
       "      <th>Pclass</th>\n",
       "      <th>Name</th>\n",
       "      <th>Sex</th>\n",
       "      <th>Age</th>\n",
       "      <th>SibSp</th>\n",
       "      <th>Parch</th>\n",
       "      <th>Ticket</th>\n",
       "      <th>Fare</th>\n",
       "      <th>Cabin</th>\n",
       "      <th>Embarked</th>\n",
       "    </tr>\n",
       "  </thead>\n",
       "  <tbody>\n",
       "    <tr>\n",
       "      <th>count</th>\n",
       "      <td>891.000000</td>\n",
       "      <td>891</td>\n",
       "      <td>891.0</td>\n",
       "      <td>891</td>\n",
       "      <td>891</td>\n",
       "      <td>714.000000</td>\n",
       "      <td>891.000000</td>\n",
       "      <td>891.000000</td>\n",
       "      <td>891</td>\n",
       "      <td>891.000000</td>\n",
       "      <td>204</td>\n",
       "      <td>889</td>\n",
       "    </tr>\n",
       "    <tr>\n",
       "      <th>unique</th>\n",
       "      <td>NaN</td>\n",
       "      <td>2</td>\n",
       "      <td>3.0</td>\n",
       "      <td>891</td>\n",
       "      <td>2</td>\n",
       "      <td>NaN</td>\n",
       "      <td>NaN</td>\n",
       "      <td>NaN</td>\n",
       "      <td>681</td>\n",
       "      <td>NaN</td>\n",
       "      <td>147</td>\n",
       "      <td>3</td>\n",
       "    </tr>\n",
       "    <tr>\n",
       "      <th>top</th>\n",
       "      <td>NaN</td>\n",
       "      <td>False</td>\n",
       "      <td>3.0</td>\n",
       "      <td>West, Mr. Edwy Arthur</td>\n",
       "      <td>male</td>\n",
       "      <td>NaN</td>\n",
       "      <td>NaN</td>\n",
       "      <td>NaN</td>\n",
       "      <td>CA. 2343</td>\n",
       "      <td>NaN</td>\n",
       "      <td>B96 B98</td>\n",
       "      <td>S</td>\n",
       "    </tr>\n",
       "    <tr>\n",
       "      <th>freq</th>\n",
       "      <td>NaN</td>\n",
       "      <td>549</td>\n",
       "      <td>491.0</td>\n",
       "      <td>1</td>\n",
       "      <td>577</td>\n",
       "      <td>NaN</td>\n",
       "      <td>NaN</td>\n",
       "      <td>NaN</td>\n",
       "      <td>7</td>\n",
       "      <td>NaN</td>\n",
       "      <td>4</td>\n",
       "      <td>644</td>\n",
       "    </tr>\n",
       "    <tr>\n",
       "      <th>mean</th>\n",
       "      <td>446.000000</td>\n",
       "      <td>NaN</td>\n",
       "      <td>NaN</td>\n",
       "      <td>NaN</td>\n",
       "      <td>NaN</td>\n",
       "      <td>29.699118</td>\n",
       "      <td>0.523008</td>\n",
       "      <td>0.381594</td>\n",
       "      <td>NaN</td>\n",
       "      <td>32.204208</td>\n",
       "      <td>NaN</td>\n",
       "      <td>NaN</td>\n",
       "    </tr>\n",
       "    <tr>\n",
       "      <th>std</th>\n",
       "      <td>257.353842</td>\n",
       "      <td>NaN</td>\n",
       "      <td>NaN</td>\n",
       "      <td>NaN</td>\n",
       "      <td>NaN</td>\n",
       "      <td>14.526497</td>\n",
       "      <td>1.102743</td>\n",
       "      <td>0.806057</td>\n",
       "      <td>NaN</td>\n",
       "      <td>49.693429</td>\n",
       "      <td>NaN</td>\n",
       "      <td>NaN</td>\n",
       "    </tr>\n",
       "    <tr>\n",
       "      <th>min</th>\n",
       "      <td>1.000000</td>\n",
       "      <td>NaN</td>\n",
       "      <td>NaN</td>\n",
       "      <td>NaN</td>\n",
       "      <td>NaN</td>\n",
       "      <td>0.420000</td>\n",
       "      <td>0.000000</td>\n",
       "      <td>0.000000</td>\n",
       "      <td>NaN</td>\n",
       "      <td>0.000000</td>\n",
       "      <td>NaN</td>\n",
       "      <td>NaN</td>\n",
       "    </tr>\n",
       "    <tr>\n",
       "      <th>25%</th>\n",
       "      <td>223.500000</td>\n",
       "      <td>NaN</td>\n",
       "      <td>NaN</td>\n",
       "      <td>NaN</td>\n",
       "      <td>NaN</td>\n",
       "      <td>20.125000</td>\n",
       "      <td>0.000000</td>\n",
       "      <td>0.000000</td>\n",
       "      <td>NaN</td>\n",
       "      <td>7.910400</td>\n",
       "      <td>NaN</td>\n",
       "      <td>NaN</td>\n",
       "    </tr>\n",
       "    <tr>\n",
       "      <th>50%</th>\n",
       "      <td>446.000000</td>\n",
       "      <td>NaN</td>\n",
       "      <td>NaN</td>\n",
       "      <td>NaN</td>\n",
       "      <td>NaN</td>\n",
       "      <td>28.000000</td>\n",
       "      <td>0.000000</td>\n",
       "      <td>0.000000</td>\n",
       "      <td>NaN</td>\n",
       "      <td>14.454200</td>\n",
       "      <td>NaN</td>\n",
       "      <td>NaN</td>\n",
       "    </tr>\n",
       "    <tr>\n",
       "      <th>75%</th>\n",
       "      <td>668.500000</td>\n",
       "      <td>NaN</td>\n",
       "      <td>NaN</td>\n",
       "      <td>NaN</td>\n",
       "      <td>NaN</td>\n",
       "      <td>38.000000</td>\n",
       "      <td>1.000000</td>\n",
       "      <td>0.000000</td>\n",
       "      <td>NaN</td>\n",
       "      <td>31.000000</td>\n",
       "      <td>NaN</td>\n",
       "      <td>NaN</td>\n",
       "    </tr>\n",
       "    <tr>\n",
       "      <th>max</th>\n",
       "      <td>891.000000</td>\n",
       "      <td>NaN</td>\n",
       "      <td>NaN</td>\n",
       "      <td>NaN</td>\n",
       "      <td>NaN</td>\n",
       "      <td>80.000000</td>\n",
       "      <td>8.000000</td>\n",
       "      <td>6.000000</td>\n",
       "      <td>NaN</td>\n",
       "      <td>512.329200</td>\n",
       "      <td>NaN</td>\n",
       "      <td>NaN</td>\n",
       "    </tr>\n",
       "  </tbody>\n",
       "</table>\n",
       "</div>"
      ],
      "text/plain": [
       "        PassengerId Survived  Pclass                   Name   Sex         Age  \\\n",
       "count    891.000000      891   891.0                    891   891  714.000000   \n",
       "unique          NaN        2     3.0                    891     2         NaN   \n",
       "top             NaN    False     3.0  West, Mr. Edwy Arthur  male         NaN   \n",
       "freq            NaN      549   491.0                      1   577         NaN   \n",
       "mean     446.000000      NaN     NaN                    NaN   NaN   29.699118   \n",
       "std      257.353842      NaN     NaN                    NaN   NaN   14.526497   \n",
       "min        1.000000      NaN     NaN                    NaN   NaN    0.420000   \n",
       "25%      223.500000      NaN     NaN                    NaN   NaN   20.125000   \n",
       "50%      446.000000      NaN     NaN                    NaN   NaN   28.000000   \n",
       "75%      668.500000      NaN     NaN                    NaN   NaN   38.000000   \n",
       "max      891.000000      NaN     NaN                    NaN   NaN   80.000000   \n",
       "\n",
       "             SibSp       Parch    Ticket        Fare    Cabin Embarked  \n",
       "count   891.000000  891.000000       891  891.000000      204      889  \n",
       "unique         NaN         NaN       681         NaN      147        3  \n",
       "top            NaN         NaN  CA. 2343         NaN  B96 B98        S  \n",
       "freq           NaN         NaN         7         NaN        4      644  \n",
       "mean      0.523008    0.381594       NaN   32.204208      NaN      NaN  \n",
       "std       1.102743    0.806057       NaN   49.693429      NaN      NaN  \n",
       "min       0.000000    0.000000       NaN    0.000000      NaN      NaN  \n",
       "25%       0.000000    0.000000       NaN    7.910400      NaN      NaN  \n",
       "50%       0.000000    0.000000       NaN   14.454200      NaN      NaN  \n",
       "75%       1.000000    0.000000       NaN   31.000000      NaN      NaN  \n",
       "max       8.000000    6.000000       NaN  512.329200      NaN      NaN  "
      ]
     },
     "execution_count": 6,
     "metadata": {},
     "output_type": "execute_result"
    }
   ],
   "source": [
    "train_df[\"Pclass\"]=train_df[\"Pclass\"].astype('category')\n",
    "train_df[\"Sex\"]=train_df[\"Sex\"].astype('category')\n",
    "train_df[\"Cabin\"]=train_df[\"Cabin\"].astype('category')\n",
    "train_df[\"Ticket\"]=train_df[\"Ticket\"].astype('category')\n",
    "train_df[\"Embarked\"]=train_df[\"Embarked\"].astype('category')\n",
    "train_df.info()\n",
    "train_df.describe(include='all')"
   ]
  },
  {
   "cell_type": "markdown",
   "metadata": {
    "pycharm": {
     "metadata": false
    }
   },
   "source": [
    "This dataset have 12 colummns, which are:\n",
    "* PassengerId : This variable is int, so it is a counter the passenger and we know that there are 891 total rows.\n",
    "* Pclass : This variable is category and the range is 0 to 3, so I think that this variable show the class of the passengers and it is very important because the passenger with high class had more probability to survive.La clase mas representativa del dataset es la tercera clase con un total de 491 pasajeros, es decir un 55% del barco.\n",
    "* Name :  This variable is a object and it show the name of the passengers and this variable not is important to know if one person survived o not, ademas cada pasajero tiene un nombre distinto, por lo tanto no podemos sacar nada en común.\n",
    "* Sex :   This variable is a category and this variable is important because if you were female, you had more probability to survive that male. El sexo masculina representaba la mayoria de los pasajeros del barco, para ser exacto 577 pasajeros eran masculinos, que es casi un 65% de los pasajeros. \n",
    "* Age : This variable is int and the range is 0 to 80, so in the TItanic there was babys and aged, this variable is very important because the passengers younger had more probability to survive that olders. El 75% de los pasajeros rondan sobre los 38 años y esta metrica tiene una gran desviacion tipica, por lo tanto no se concentra la edad de la poblacion un pequeño rango, es decir la métrica es muy dispersa, ademas tiene 177 valores nulos en el dataset.\n",
    "* SibSp : This variable is int and the range is 0 to 8 y el 75% de los pasajeros solamente tenian un conyuge o hermano.\n",
    "* Parch : This variable is int and the range is 0 to 6 and y el 75% de los pasajeros no tenian padres o hijos. I don't know that this metric is important, saldremos de duda mas adelante cuando hagamos un analizar con mayor detalle.\n",
    "* Ticket : This variable is a category y el valor mas frecuente es la cabina \"CA. 2343\", cuyo camarote fue compartirdo por 7 familiares.\n",
    "* Fare : This variable is int and the range is 0 to 512, el 75% de la poblacion pagaron una media de 31 de tarifa, esto se debe a que el 75% del barco era tambien de 3º clase.\n",
    "* Cabin : This variable is category, la categoria mas fecuente es \"B96 B98\" con 4, por lo tanto esa cabina tenia 4 pasajeros I don't know that this variable is important, because there are much nulls values, para ser exacto tiene 687 valores nulos que equivale al 77% del dataset, por lo tanto este valor introduce bastante inconsistencia al dataset.\n",
    "* Embarked : This variable is category, el lugar mas frecuente de embarcación fue Southampton con 644 pasajeros, el cual representa el 72% de los pasajeros.\n",
    "* Survived : This variable is a boolean, it is the class that I want predict, which show if one person survived or no. Ademas con esta descipcion se observa que la mayoria del dataset ha mueerto para ser exactos 549 pasajeros, por lo tanto 61% del dataset murieron.Esto luego puede acarrear un breve problema de un dataset un poco desbalanceado pero no es tan agrasevio como otros datasets desbalanceados de 99% de un clase y 1% otra clase."
   ]
  },
  {
   "cell_type": "markdown",
   "metadata": {},
   "source": [
    "### **Analisis profunda de variables**\n",
    "<a id=\"profundidad\"></a>"
   ]
  },
  {
   "cell_type": "markdown",
   "metadata": {},
   "source": [
    "Con anterioridad se ha obtenido una informacion previode la mayoria de los pasajeros que eran de 3º clase, sexo masculino, mediana edad, apenas tenian familiares, embarcaron de Southampton. Ademas la mayoria de los pasajeros de este dataset sobrevivieron.  \n",
    "Ahora se va a realizar un analisis con profundidad de cada variable del dataset y sacar informacion con mayor interes."
   ]
  },
  {
   "cell_type": "markdown",
   "metadata": {},
   "source": [
    "#### **PassengerId : Identificador del pasajero**\n",
    "<a id=\"PassengerId\"></a>"
   ]
  },
  {
   "cell_type": "markdown",
   "metadata": {},
   "source": [
    "Este atributo no es necesario en profundidad ya que directamente como dice el nombre es un identificador, y por lo tanto es un valor nulo que no da informacion al dataset, sino que es un contador de filas del dataset."
   ]
  },
  {
   "cell_type": "markdown",
   "metadata": {},
   "source": [
    "#### **Pclass : Clase del pasajero**\n",
    "<a id=\"Pclass\"></a>"
   ]
  },
  {
   "cell_type": "markdown",
   "metadata": {},
   "source": [
    "Como se ha mencionado anteriormente este atributo muestra la clase del pasajero del Titanic, el cual deberia ser bastante interesante ya que segun la logica de los botes de emergencia tenian prioridad las personas de primera clase mientras el resto de clases no tenian prioridad y directamente eran descartados para tales botes.  \n",
    "Para ello se va a realizar un analisis de profundidad de tal atributo para saber que informacion muestra del dataset.  \n",
    "Se va a realizar la media del atributo Supervivencia agrupando por el atributo Clase de pasajero, como se sabe que si el valor Supervivencia es igual a True es que sobrevivio, por lo tanto la clase que tenga mayor media, significara que esa clase tiene mas supervivientes."
   ]
  },
  {
   "cell_type": "code",
   "execution_count": 6,
   "metadata": {},
   "outputs": [
    {
     "data": {
      "text/html": [
       "<div>\n",
       "<style scoped>\n",
       "    .dataframe tbody tr th:only-of-type {\n",
       "        vertical-align: middle;\n",
       "    }\n",
       "\n",
       "    .dataframe tbody tr th {\n",
       "        vertical-align: top;\n",
       "    }\n",
       "\n",
       "    .dataframe thead th {\n",
       "        text-align: right;\n",
       "    }\n",
       "</style>\n",
       "<table border=\"1\" class=\"dataframe\">\n",
       "  <thead>\n",
       "    <tr style=\"text-align: right;\">\n",
       "      <th></th>\n",
       "      <th>Pclass</th>\n",
       "      <th>Survived</th>\n",
       "    </tr>\n",
       "  </thead>\n",
       "  <tbody>\n",
       "    <tr>\n",
       "      <th>0</th>\n",
       "      <td>1</td>\n",
       "      <td>0.629630</td>\n",
       "    </tr>\n",
       "    <tr>\n",
       "      <th>1</th>\n",
       "      <td>2</td>\n",
       "      <td>0.472826</td>\n",
       "    </tr>\n",
       "    <tr>\n",
       "      <th>2</th>\n",
       "      <td>3</td>\n",
       "      <td>0.242363</td>\n",
       "    </tr>\n",
       "  </tbody>\n",
       "</table>\n",
       "</div>"
      ],
      "text/plain": [
       "  Pclass  Survived\n",
       "0      1  0.629630\n",
       "1      2  0.472826\n",
       "2      3  0.242363"
      ]
     },
     "execution_count": 6,
     "metadata": {},
     "output_type": "execute_result"
    }
   ],
   "source": [
    "train_df[['Pclass', 'Survived']].groupby(['Pclass'], as_index=False).mean()"
   ]
  },
  {
   "cell_type": "markdown",
   "metadata": {},
   "source": [
    "Por lo que se ve se cumple la logica que se ha mencionado anteriormente, es decir la personas de primera clase son las personas que tuvieron mayor tasa de supervivencia, el triple que los pasajeros de 3º clase.  \n",
    "Ademas de esto, se va a mostrar estos datos pero a nivel visual y teniendo en cuenta los pasajeros que hayan sobrevivido o no, con lo que sea mas facil interpretar este atributo."
   ]
  },
  {
   "cell_type": "code",
   "execution_count": 10,
   "metadata": {},
   "outputs": [
    {
     "data": {
      "image/png": "[encoded data removed]",
      "text/plain": [
       "<Figure size 422.125x360 with 1 Axes>"
      ]
     },
     "metadata": {
      "needs_background": "light"
     },
     "output_type": "display_data"
    }
   ],
   "source": [
    "g = sns.catplot('Pclass', hue=\"Survived\",data=train_df, kind='count')"
   ]
  },
  {
   "cell_type": "markdown",
   "metadata": {},
   "source": [
    "Por lo que se puede evaluar por estos resultados visuales y numericos, ha demostrado que la logica que supuse de haber mayor supervivencia los pasajeros de primera clase, es cierta, ya que por lo que se visualiza la clase que ha tenido mayor tasa de supervivencia es la primera, luego la segunda y finalmente la tercera. Siendo la primera clase la que tiene mayor tasa de supervivencia. Ademas se puede visualizar que hay mas personas personas procedentes de 3º clase que de primera.  \n",
    "Teniendo en cuenta solamente el numero de supervivientes sin observar el total de pasajero de cada clase, el numero de superviventes de 3º clase es mayor que la de 2º clase.  \n",
    "Ahora se va a visualizar el porcentaje de pasajeros de cada clase para ver las proporciones que tenemos de pasajeros en funcion de su clase perteneciente."
   ]
  },
  {
   "cell_type": "code",
   "execution_count": 16,
   "metadata": {},
   "outputs": [
    {
     "data": {
      "text/html": [
       "<div>\n",
       "<style scoped>\n",
       "    .dataframe tbody tr th:only-of-type {\n",
       "        vertical-align: middle;\n",
       "    }\n",
       "\n",
       "    .dataframe tbody tr th {\n",
       "        vertical-align: top;\n",
       "    }\n",
       "\n",
       "    .dataframe thead th {\n",
       "        text-align: right;\n",
       "    }\n",
       "</style>\n",
       "<table border=\"1\" class=\"dataframe\">\n",
       "  <thead>\n",
       "    <tr style=\"text-align: right;\">\n",
       "      <th></th>\n",
       "      <th>Pclass</th>\n",
       "      <th>% Percent.</th>\n",
       "    </tr>\n",
       "  </thead>\n",
       "  <tbody>\n",
       "    <tr>\n",
       "      <th>0</th>\n",
       "      <td>1</td>\n",
       "      <td>24.242424</td>\n",
       "    </tr>\n",
       "    <tr>\n",
       "      <th>1</th>\n",
       "      <td>2</td>\n",
       "      <td>20.650954</td>\n",
       "    </tr>\n",
       "    <tr>\n",
       "      <th>2</th>\n",
       "      <td>3</td>\n",
       "      <td>55.106622</td>\n",
       "    </tr>\n",
       "  </tbody>\n",
       "</table>\n",
       "</div>"
      ],
      "text/plain": [
       "   Pclass  % Percent.\n",
       "0       1   24.242424\n",
       "1       2   20.650954\n",
       "2       3   55.106622"
      ]
     },
     "execution_count": 16,
     "metadata": {},
     "output_type": "execute_result"
    }
   ],
   "source": [
    "group_by=train_df[['Pclass', 'PassengerId']].groupby(['Pclass'], as_index=False).count()\n",
    "group_by=group_by['PassengerId'].tolist()\n",
    "percent=[(x / sum(group_by)*100) for x in group_by]\n",
    "d = {'Pclass': [1, 2,3], '% Percent.': percent}\n",
    "dataframe=pd.DataFrame(data=d)\n",
    "dataframe"
   ]
  },
  {
   "cell_type": "code",
   "execution_count": 18,
   "metadata": {},
   "outputs": [
    {
     "data": {
      "image/png": "[encoded data removed]",
      "text/plain": [
       "<Figure size 360x360 with 1 Axes>"
      ]
     },
     "metadata": {
      "needs_background": "light"
     },
     "output_type": "display_data"
    }
   ],
   "source": [
    "g = sns.catplot('Pclass',data=train_df, kind='count')"
   ]
  },
  {
   "cell_type": "markdown",
   "metadata": {},
   "source": [
    "Como se visualiza la myoria de los pasajeros es de 3º clase, para ser mas exactos el 55% de la tripulacion era de 3º clase, luego tenemos el 24% de la tripulación es de primera clase y finalmente un 20% es de 2º clase."
   ]
  },
  {
   "cell_type": "markdown",
   "metadata": {},
   "source": [
    "#### **Name : Nombre del pasajero**\n",
    "<a id=\"Name\"></a>"
   ]
  },
  {
   "cell_type": "markdown",
   "metadata": {},
   "source": [
    "Este atributo no es necesario en profundidad ya que directamente como dice el nombre es un identificador de la persona, y por lo tanto es un valor nulo que no da informacion al dataset, sino que ocurre como el antributo PassengerId."
   ]
  },
  {
   "cell_type": "markdown",
   "metadata": {},
   "source": [
    "#### **Sex : Sexo del pasajero**\n",
    "<a id=\"Sex\"></a>"
   ]
  },
  {
   "cell_type": "markdown",
   "metadata": {},
   "source": [
    "Como se ha mencionado anteriormente este atributo muestra el sexo del pasajero del Titanic, el cual deberia ser bastante interesante ya que segun la logica de los botes de emergencia tenian prioridad las personas con sexo femenino frente a los hombres\n",
    "Para ello se va a repetir el analisis de profundidad de tal atributo y averiguar si se cumple la logica de que sobreviven mas las mujeres que los hombres, como se ha realizado previamente al atributo **Pclass**.  \n",
    "Se va a realizar la media del atributo Supervivencia agrupando por el atributo Sexo de pasajero, como se hizo previamente y luego averiguar la proporcion de hombres y mujeres en la tripulacion."
   ]
  },
  {
   "cell_type": "code",
   "execution_count": 31,
   "metadata": {},
   "outputs": [
    {
     "data": {
      "text/html": [
       "<div>\n",
       "<style scoped>\n",
       "    .dataframe tbody tr th:only-of-type {\n",
       "        vertical-align: middle;\n",
       "    }\n",
       "\n",
       "    .dataframe tbody tr th {\n",
       "        vertical-align: top;\n",
       "    }\n",
       "\n",
       "    .dataframe thead th {\n",
       "        text-align: right;\n",
       "    }\n",
       "</style>\n",
       "<table border=\"1\" class=\"dataframe\">\n",
       "  <thead>\n",
       "    <tr style=\"text-align: right;\">\n",
       "      <th></th>\n",
       "      <th>Sex</th>\n",
       "      <th>Survived</th>\n",
       "    </tr>\n",
       "  </thead>\n",
       "  <tbody>\n",
       "    <tr>\n",
       "      <th>0</th>\n",
       "      <td>female</td>\n",
       "      <td>0.742038</td>\n",
       "    </tr>\n",
       "    <tr>\n",
       "      <th>1</th>\n",
       "      <td>male</td>\n",
       "      <td>0.188908</td>\n",
       "    </tr>\n",
       "  </tbody>\n",
       "</table>\n",
       "</div>"
      ],
      "text/plain": [
       "      Sex  Survived\n",
       "0  female  0.742038\n",
       "1    male  0.188908"
      ]
     },
     "execution_count": 31,
     "metadata": {},
     "output_type": "execute_result"
    }
   ],
   "source": [
    "train_df[['Sex', 'Survived']].groupby(['Sex'], as_index=False).mean()"
   ]
  },
  {
   "cell_type": "markdown",
   "metadata": {},
   "source": [
    "Por lo que se puede evaluar, en este caso se cumple la logica que se tiene del caso del titanic, es que las mujeres tenian 6 veces mas probabilidad de sobrevivir que los hombres como se ve claramente, 74% de supervivencia si eras del sexo femenino mientras si eras del sexo masculino solamente tenias un 18% de supervivencia.  \n",
    "Ahora se va a visualizarlo de forma grafica para aclararlo mejor."
   ]
  },
  {
   "cell_type": "code",
   "execution_count": 11,
   "metadata": {},
   "outputs": [
    {
     "data": {
      "image/png": "[encoded data removed]",
      "text/plain": [
       "<Figure size 422.125x360 with 1 Axes>"
      ]
     },
     "metadata": {
      "needs_background": "light"
     },
     "output_type": "display_data"
    }
   ],
   "source": [
    "g = sns.catplot('Sex', hue=\"Survived\",data=train_df, kind='count')"
   ]
  },
  {
   "cell_type": "markdown",
   "metadata": {},
   "source": [
    "Como se puede ver, la tripulacion del sexo femenino tenian un gran numero de supervivientes mientras los hombres tienen menos de la mitad, y claramente cuando se fijan en el caso de muerte la diferencia entre el sexo masculino con el femenino es grandisimo, asi que esta claro que que si fueramos una pasajero de sexo femenino conseguiriamos tener mas claro que podriamos sobrevivir mientras que siendo un hombre deberiamos tener suerte para sobrevivir de este desastre.  \n",
    "Ahora se va a visualizar el porcentaje de pasajeros de cada sexo para ver las proporciones que tenemos de pasajeros en funcion de su sexo."
   ]
  },
  {
   "cell_type": "code",
   "execution_count": 97,
   "metadata": {},
   "outputs": [
    {
     "data": {
      "text/html": [
       "<div>\n",
       "<style scoped>\n",
       "    .dataframe tbody tr th:only-of-type {\n",
       "        vertical-align: middle;\n",
       "    }\n",
       "\n",
       "    .dataframe tbody tr th {\n",
       "        vertical-align: top;\n",
       "    }\n",
       "\n",
       "    .dataframe thead th {\n",
       "        text-align: right;\n",
       "    }\n",
       "</style>\n",
       "<table border=\"1\" class=\"dataframe\">\n",
       "  <thead>\n",
       "    <tr style=\"text-align: right;\">\n",
       "      <th></th>\n",
       "      <th>Sex</th>\n",
       "      <th>% Percent.</th>\n",
       "    </tr>\n",
       "  </thead>\n",
       "  <tbody>\n",
       "    <tr>\n",
       "      <th>0</th>\n",
       "      <td>Female</td>\n",
       "      <td>35.241302</td>\n",
       "    </tr>\n",
       "    <tr>\n",
       "      <th>1</th>\n",
       "      <td>Male</td>\n",
       "      <td>64.758698</td>\n",
       "    </tr>\n",
       "  </tbody>\n",
       "</table>\n",
       "</div>"
      ],
      "text/plain": [
       "      Sex  % Percent.\n",
       "0  Female   35.241302\n",
       "1    Male   64.758698"
      ]
     },
     "execution_count": 97,
     "metadata": {},
     "output_type": "execute_result"
    }
   ],
   "source": [
    "group_by=train_df[['Sex', 'PassengerId']].groupby(['Sex'], as_index=False).count()\n",
    "group_by=group_by['PassengerId'].tolist()\n",
    "percent=[(x / sum(group_by)*100) for x in group_by]\n",
    "d = {'Sex': [\"Female\",\"Male\"], '% Percent.': percent}\n",
    "dataframe=pd.DataFrame(data=d)\n",
    "dataframe"
   ]
  },
  {
   "cell_type": "code",
   "execution_count": 13,
   "metadata": {},
   "outputs": [
    {
     "data": {
      "image/png": "[encoded data removed]",
      "text/plain": [
       "<Figure size 360x360 with 1 Axes>"
      ]
     },
     "metadata": {
      "needs_background": "light"
     },
     "output_type": "display_data"
    }
   ],
   "source": [
    "g = sns.catplot('Sex',data=train_df, kind='count')"
   ]
  },
  {
   "cell_type": "markdown",
   "metadata": {},
   "source": [
    "Por lo que se puede observar en este visualización y sus valores de procentajes, la mayoria de la tripulación esta compuesta por el sexo masculino y la diferencia es casi del doble y por lo tanto, es compresible el procentaje de hombres vivos ya que por lo minimo se podrian sobrevivir algunos por la clase perteneciente (1º clase)."
   ]
  },
  {
   "cell_type": "markdown",
   "metadata": {},
   "source": [
    "#### **Age : Edad del pasajero**\n",
    "<a id=\"Age\"></a>"
   ]
  },
  {
   "cell_type": "markdown",
   "metadata": {},
   "source": [
    "Para analizar este atributo, se va a mostrar su descipcion como el caso anterior y posiblmente mas adelante se vaya a categorizar en 3 categorias (Niño,Adulto,Anciano) para poder realizar un analisis mas contudente a esta variable y no contener 80 edades que analizar, ya que como se obtuvo, este dataset estaba compuesto de edades entre 0 a 80 años.  \n",
    "Esta variable se supone que los tripulantes mas jovenes tenian mayor prioridad que el resto, por lo tanto, lo normal sera ver esos resultados mostrados en lo que se va a desarrollar.  \n",
    "Al ser la edad un Entero y tener 80 valores, se va a evitar a hacer la media de supervivencia de Edad ya que seria demasiadas filas que analizar y directamente se mostrara los valores de forma grafico y ser mas facil de analizar."
   ]
  },
  {
   "cell_type": "code",
   "execution_count": 7,
   "metadata": {},
   "outputs": [
    {
     "data": {
      "image/png": "[encoded data removed]",
      "text/plain": [
       "<Figure size 422.125x360 with 1 Axes>"
      ]
     },
     "metadata": {
      "needs_background": "light"
     },
     "output_type": "display_data"
    }
   ],
   "source": [
    "g = sns.catplot('Age', hue=\"Survived\",data=train_df, kind='count')"
   ]
  },
  {
   "cell_type": "markdown",
   "metadata": {},
   "source": [
    "Por lo que se puede observar los jovenes entre 0-10 años tienen el doble de supervivientes, y solamente en algunos casos puntuales de gente mayores la tasa de supervivientes es menor que la de muertos, por lo que se demuestra que lo supuesto anteriormente es cierto.  \n",
    "Ahora se va realizar un analisis de distribucion de la edad de la tripulacion por saber, como esta compuesto el barco.  "
   ]
  },
  {
   "cell_type": "code",
   "execution_count": 8,
   "metadata": {},
   "outputs": [
    {
     "data": {
      "image/png": "[encoded data removed]",
      "text/plain": [
       "<Figure size 360x360 with 1 Axes>"
      ]
     },
     "metadata": {
      "needs_background": "light"
     },
     "output_type": "display_data"
    }
   ],
   "source": [
    "g = sns.catplot('Age',data=train_df, kind='count')"
   ]
  },
  {
   "cell_type": "markdown",
   "metadata": {},
   "source": [
    "Como se puede observar en la grafica, la moda de la edad esta entre los 18 y 34 años aproximadamente, por lo tanto la mayoria de la tripulacion son gente joven, luego va descenciendo el número de tripulacion cuanto mayor sea su edad, y como se ve la tripulacion tien como 95 tripulantes menores de edad (55 niñ@s entre 0-10 años y 40 niñ@s entre 10-18 años).  \n",
    "Por lo que estos ultimos tripulantes que hemos mencionado son los que tienen mayor tendencia a sobrevivir mientras los tripulantes mayores a estos tienden a tener menor probabilidad de superviviencia cuanto mayor sea su edad.  "
   ]
  },
  {
   "cell_type": "markdown",
   "metadata": {},
   "source": [
    "#### **SibSp : Number of passenger siblings/spouses**\n",
    "<a id=\"SibSp\"></a>"
   ]
  },
  {
   "cell_type": "markdown",
   "metadata": {},
   "source": [
    "Este atributo como dice su nombre muestra el numero de hermanos/esposa que tiene el pasajero, por lo tanto se va a repetir el analisis para ver su dependencia con la clase Supervivencia y ademas de ello analizar su distribucion en toda la distribución.  \n",
    "Asi conseguir entender con mayor profundidad el significado de esta variable y importancia en el futuro."
   ]
  },
  {
   "cell_type": "code",
   "execution_count": 35,
   "metadata": {
    "scrolled": true
   },
   "outputs": [
    {
     "data": {
      "text/html": [
       "<div>\n",
       "<style scoped>\n",
       "    .dataframe tbody tr th:only-of-type {\n",
       "        vertical-align: middle;\n",
       "    }\n",
       "\n",
       "    .dataframe tbody tr th {\n",
       "        vertical-align: top;\n",
       "    }\n",
       "\n",
       "    .dataframe thead th {\n",
       "        text-align: right;\n",
       "    }\n",
       "</style>\n",
       "<table border=\"1\" class=\"dataframe\">\n",
       "  <thead>\n",
       "    <tr style=\"text-align: right;\">\n",
       "      <th></th>\n",
       "      <th>SibSp</th>\n",
       "      <th>Survived</th>\n",
       "    </tr>\n",
       "  </thead>\n",
       "  <tbody>\n",
       "    <tr>\n",
       "      <th>0</th>\n",
       "      <td>0</td>\n",
       "      <td>0.345395</td>\n",
       "    </tr>\n",
       "    <tr>\n",
       "      <th>1</th>\n",
       "      <td>1</td>\n",
       "      <td>0.535885</td>\n",
       "    </tr>\n",
       "    <tr>\n",
       "      <th>2</th>\n",
       "      <td>2</td>\n",
       "      <td>0.464286</td>\n",
       "    </tr>\n",
       "    <tr>\n",
       "      <th>3</th>\n",
       "      <td>3</td>\n",
       "      <td>0.250000</td>\n",
       "    </tr>\n",
       "    <tr>\n",
       "      <th>4</th>\n",
       "      <td>4</td>\n",
       "      <td>0.166667</td>\n",
       "    </tr>\n",
       "    <tr>\n",
       "      <th>5</th>\n",
       "      <td>5</td>\n",
       "      <td>0.000000</td>\n",
       "    </tr>\n",
       "    <tr>\n",
       "      <th>6</th>\n",
       "      <td>8</td>\n",
       "      <td>0.000000</td>\n",
       "    </tr>\n",
       "  </tbody>\n",
       "</table>\n",
       "</div>"
      ],
      "text/plain": [
       "   SibSp  Survived\n",
       "0      0  0.345395\n",
       "1      1  0.535885\n",
       "2      2  0.464286\n",
       "3      3  0.250000\n",
       "4      4  0.166667\n",
       "5      5  0.000000\n",
       "6      8  0.000000"
      ]
     },
     "execution_count": 35,
     "metadata": {},
     "output_type": "execute_result"
    }
   ],
   "source": [
    "train_df[['SibSp', 'Survived']].groupby(['SibSp'], as_index=False).mean()"
   ]
  },
  {
   "cell_type": "code",
   "execution_count": 9,
   "metadata": {},
   "outputs": [
    {
     "data": {
      "image/png": "[encoded data removed]",
      "text/plain": [
       "<Figure size 422.125x360 with 1 Axes>"
      ]
     },
     "metadata": {
      "needs_background": "light"
     },
     "output_type": "display_data"
    }
   ],
   "source": [
    "g = sns.catplot('SibSp', hue=\"Survived\",data=train_df, kind='count')"
   ]
  },
  {
   "cell_type": "markdown",
   "metadata": {},
   "source": [
    "Como se puede observar con los resultados obtenidos de la media de la clase Survived agrupando por SibSp, los tripulantes con 1 o 2 hermanos/esposa tienen mayor tasa de probabilidad en comparacion de los otros.\n",
    "Tambien se observa en la gráfica que teniendo un valor 0 en este atributo se tiene un % de supervivientes altisimo pero teniendo encuenta tambien que el doble de estos tripulantes murieron, estos valores tan altos se deben a que la mayoria de tripulacion del Titanic no tendria ni hermanos ni esposa.  \n",
    "Este atributo junto con el Número de padres e hijos es condicional a la supervivencia de la persona ya que una persona que tenga algun familiar se aferrara mas a la vida que una persona que no tenga familiar, pero es un arma de doble filo ya que si una persona tiene muchos familiares se jugara mas la vida para ayudar a sobrevivir a otro familiar suyo.  \n",
    "Asi que esta variable genera un poco de confusion para obtener alguna conclusion solamente usando la logica, pero viendo los datos se demuestra que las personas con 1 o 2 hermanos/esposa tienen mayor tasa de probabilidad en comparacion de los otros.  \n",
    "Ahora se va a analizar la distibucion de hermanos/esposas que habia en la tripulacion del Titanic y asi conocer los componentes del dataset."
   ]
  },
  {
   "cell_type": "code",
   "execution_count": 11,
   "metadata": {},
   "outputs": [
    {
     "data": {
      "text/html": [
       "<div>\n",
       "<style scoped>\n",
       "    .dataframe tbody tr th:only-of-type {\n",
       "        vertical-align: middle;\n",
       "    }\n",
       "\n",
       "    .dataframe tbody tr th {\n",
       "        vertical-align: top;\n",
       "    }\n",
       "\n",
       "    .dataframe thead th {\n",
       "        text-align: right;\n",
       "    }\n",
       "</style>\n",
       "<table border=\"1\" class=\"dataframe\">\n",
       "  <thead>\n",
       "    <tr style=\"text-align: right;\">\n",
       "      <th></th>\n",
       "      <th>SibSp</th>\n",
       "      <th>% Percent.</th>\n",
       "    </tr>\n",
       "  </thead>\n",
       "  <tbody>\n",
       "    <tr>\n",
       "      <th>0</th>\n",
       "      <td>0</td>\n",
       "      <td>68.237935</td>\n",
       "    </tr>\n",
       "    <tr>\n",
       "      <th>1</th>\n",
       "      <td>1</td>\n",
       "      <td>23.456790</td>\n",
       "    </tr>\n",
       "    <tr>\n",
       "      <th>2</th>\n",
       "      <td>2</td>\n",
       "      <td>3.142536</td>\n",
       "    </tr>\n",
       "    <tr>\n",
       "      <th>3</th>\n",
       "      <td>3</td>\n",
       "      <td>1.795735</td>\n",
       "    </tr>\n",
       "    <tr>\n",
       "      <th>4</th>\n",
       "      <td>4</td>\n",
       "      <td>2.020202</td>\n",
       "    </tr>\n",
       "    <tr>\n",
       "      <th>5</th>\n",
       "      <td>5</td>\n",
       "      <td>0.561167</td>\n",
       "    </tr>\n",
       "    <tr>\n",
       "      <th>6</th>\n",
       "      <td>8</td>\n",
       "      <td>0.785634</td>\n",
       "    </tr>\n",
       "  </tbody>\n",
       "</table>\n",
       "</div>"
      ],
      "text/plain": [
       "   SibSp  % Percent.\n",
       "0      0   68.237935\n",
       "1      1   23.456790\n",
       "2      2    3.142536\n",
       "3      3    1.795735\n",
       "4      4    2.020202\n",
       "5      5    0.561167\n",
       "6      8    0.785634"
      ]
     },
     "execution_count": 11,
     "metadata": {},
     "output_type": "execute_result"
    }
   ],
   "source": [
    "group_by=train_df[['SibSp', 'PassengerId']].groupby(['SibSp'], as_index=False).count()\n",
    "SibSp=group_by['SibSp'].tolist()\n",
    "group_by=group_by['PassengerId'].tolist()\n",
    "percent=[(x / sum(group_by)*100) for x in group_by]\n",
    "d = {'SibSp': SibSp, '% Percent.': percent}\n",
    "dataframe=pd.DataFrame(data=d)\n",
    "dataframe"
   ]
  },
  {
   "cell_type": "code",
   "execution_count": 10,
   "metadata": {},
   "outputs": [
    {
     "data": {
      "image/png": "[encoded data removed]",
      "text/plain": [
       "<Figure size 360x360 with 1 Axes>"
      ]
     },
     "metadata": {
      "needs_background": "light"
     },
     "output_type": "display_data"
    }
   ],
   "source": [
    "g = sns.catplot('SibSp',data=train_df, kind='count')"
   ]
  },
  {
   "cell_type": "markdown",
   "metadata": {},
   "source": [
    "Como se observa, el 68% de la tripulacion no tiene hermanos/conyuges y el 23% tiene solamente un 1 hermano/conyuge, con lo que se puede saber que la distribucion de la tripulacion con esta variable es casi siempre 0 o 1 y raramente mayor que estos valores como se ve hay casos que tenien 8, con lo que conlleva a 7 hermanos y 1 conyuge.  \n",
    "Pero por lo que hemos podido analizar usando este Atributo que por ahora la mayoria de la tripulacion no tenia relacion familiar dentro del Titanic."
   ]
  },
  {
   "cell_type": "markdown",
   "metadata": {},
   "source": [
    "#### **Parch : Number of passenger parents/childs**\n",
    "<a id=\"Parch\"></a>"
   ]
  },
  {
   "cell_type": "markdown",
   "metadata": {},
   "source": [
    "Este atributo como dice su nombre muestra el numero de padres/hijos que tiene el pasajero, por lo tanto se va a repetir el analisis para ver su dependencia con la clase Supervivencia y ademas de ello analizar su distribucion en toda la distribución.  \n",
    "Asi conseguir entender con mayor profundidad el significado de esta variable y importancia en el futuro."
   ]
  },
  {
   "cell_type": "code",
   "execution_count": 12,
   "metadata": {},
   "outputs": [
    {
     "data": {
      "text/html": [
       "<div>\n",
       "<style scoped>\n",
       "    .dataframe tbody tr th:only-of-type {\n",
       "        vertical-align: middle;\n",
       "    }\n",
       "\n",
       "    .dataframe tbody tr th {\n",
       "        vertical-align: top;\n",
       "    }\n",
       "\n",
       "    .dataframe thead th {\n",
       "        text-align: right;\n",
       "    }\n",
       "</style>\n",
       "<table border=\"1\" class=\"dataframe\">\n",
       "  <thead>\n",
       "    <tr style=\"text-align: right;\">\n",
       "      <th></th>\n",
       "      <th>Parch</th>\n",
       "      <th>Survived</th>\n",
       "    </tr>\n",
       "  </thead>\n",
       "  <tbody>\n",
       "    <tr>\n",
       "      <th>0</th>\n",
       "      <td>0</td>\n",
       "      <td>0.343658</td>\n",
       "    </tr>\n",
       "    <tr>\n",
       "      <th>1</th>\n",
       "      <td>1</td>\n",
       "      <td>0.550847</td>\n",
       "    </tr>\n",
       "    <tr>\n",
       "      <th>2</th>\n",
       "      <td>2</td>\n",
       "      <td>0.500000</td>\n",
       "    </tr>\n",
       "    <tr>\n",
       "      <th>3</th>\n",
       "      <td>3</td>\n",
       "      <td>0.600000</td>\n",
       "    </tr>\n",
       "    <tr>\n",
       "      <th>4</th>\n",
       "      <td>4</td>\n",
       "      <td>0.000000</td>\n",
       "    </tr>\n",
       "    <tr>\n",
       "      <th>5</th>\n",
       "      <td>5</td>\n",
       "      <td>0.200000</td>\n",
       "    </tr>\n",
       "    <tr>\n",
       "      <th>6</th>\n",
       "      <td>6</td>\n",
       "      <td>0.000000</td>\n",
       "    </tr>\n",
       "  </tbody>\n",
       "</table>\n",
       "</div>"
      ],
      "text/plain": [
       "   Parch  Survived\n",
       "0      0  0.343658\n",
       "1      1  0.550847\n",
       "2      2  0.500000\n",
       "3      3  0.600000\n",
       "4      4  0.000000\n",
       "5      5  0.200000\n",
       "6      6  0.000000"
      ]
     },
     "execution_count": 12,
     "metadata": {},
     "output_type": "execute_result"
    }
   ],
   "source": [
    "train_df[['Parch', 'Survived']].groupby(['Parch'], as_index=False).mean()"
   ]
  },
  {
   "cell_type": "code",
   "execution_count": 13,
   "metadata": {},
   "outputs": [
    {
     "data": {
      "image/png": "[encoded data removed]",
      "text/plain": [
       "<Figure size 422.125x360 with 1 Axes>"
      ]
     },
     "metadata": {
      "needs_background": "light"
     },
     "output_type": "display_data"
    }
   ],
   "source": [
    "g = sns.catplot('Parch', hue=\"Survived\",data=train_df, kind='count')"
   ]
  },
  {
   "cell_type": "markdown",
   "metadata": {},
   "source": []
  },
  {
   "cell_type": "code",
   "execution_count": 8,
   "metadata": {},
   "outputs": [
    {
     "data": {
      "text/html": [
       "<div>\n",
       "<style scoped>\n",
       "    .dataframe tbody tr th:only-of-type {\n",
       "        vertical-align: middle;\n",
       "    }\n",
       "\n",
       "    .dataframe tbody tr th {\n",
       "        vertical-align: top;\n",
       "    }\n",
       "\n",
       "    .dataframe thead th {\n",
       "        text-align: right;\n",
       "    }\n",
       "</style>\n",
       "<table border=\"1\" class=\"dataframe\">\n",
       "  <thead>\n",
       "    <tr style=\"text-align: right;\">\n",
       "      <th></th>\n",
       "      <th>Parch</th>\n",
       "      <th>% Percent.</th>\n",
       "    </tr>\n",
       "  </thead>\n",
       "  <tbody>\n",
       "    <tr>\n",
       "      <th>0</th>\n",
       "      <td>0</td>\n",
       "      <td>76.094276</td>\n",
       "    </tr>\n",
       "    <tr>\n",
       "      <th>1</th>\n",
       "      <td>1</td>\n",
       "      <td>13.243547</td>\n",
       "    </tr>\n",
       "    <tr>\n",
       "      <th>2</th>\n",
       "      <td>2</td>\n",
       "      <td>8.978676</td>\n",
       "    </tr>\n",
       "    <tr>\n",
       "      <th>3</th>\n",
       "      <td>3</td>\n",
       "      <td>0.561167</td>\n",
       "    </tr>\n",
       "    <tr>\n",
       "      <th>4</th>\n",
       "      <td>4</td>\n",
       "      <td>0.448934</td>\n",
       "    </tr>\n",
       "    <tr>\n",
       "      <th>5</th>\n",
       "      <td>5</td>\n",
       "      <td>0.561167</td>\n",
       "    </tr>\n",
       "    <tr>\n",
       "      <th>6</th>\n",
       "      <td>6</td>\n",
       "      <td>0.112233</td>\n",
       "    </tr>\n",
       "  </tbody>\n",
       "</table>\n",
       "</div>"
      ],
      "text/plain": [
       "   Parch  % Percent.\n",
       "0      0   76.094276\n",
       "1      1   13.243547\n",
       "2      2    8.978676\n",
       "3      3    0.561167\n",
       "4      4    0.448934\n",
       "5      5    0.561167\n",
       "6      6    0.112233"
      ]
     },
     "execution_count": 8,
     "metadata": {},
     "output_type": "execute_result"
    }
   ],
   "source": [
    "group_by=train_df[['Parch', 'PassengerId']].groupby(['Parch'], as_index=False).count()\n",
    "Parch=group_by['Parch'].tolist()\n",
    "group_by=group_by['PassengerId'].tolist()\n",
    "percent=[(x / sum(group_by)*100) for x in group_by]\n",
    "d = {'Parch': Parch, '% Percent.': percent}\n",
    "dataframe=pd.DataFrame(data=d)\n",
    "dataframe"
   ]
  },
  {
   "cell_type": "code",
   "execution_count": 14,
   "metadata": {},
   "outputs": [
    {
     "data": {
      "image/png": "[encoded data removed]",
      "text/plain": [
       "<Figure size 360x360 with 1 Axes>"
      ]
     },
     "metadata": {
      "needs_background": "light"
     },
     "output_type": "display_data"
    }
   ],
   "source": [
    "g = sns.catplot('Parch',data=train_df, kind='count')"
   ]
  },
  {
   "cell_type": "markdown",
   "metadata": {},
   "source": []
  },
  {
   "cell_type": "markdown",
   "metadata": {},
   "source": [
    "#### **Ticket : Ticket del pasajero**\n",
    "<a id=\"Ticket\"></a>"
   ]
  },
  {
   "cell_type": "markdown",
   "metadata": {},
   "source": [
    "#### **Fare : Coste de la cabina del pasajero**\n",
    "<a id=\"Fare\"></a>"
   ]
  },
  {
   "cell_type": "markdown",
   "metadata": {},
   "source": [
    "#### **Cabin : Number of the cabine passengers**\n",
    "<a id=\"Cabin\"></a>"
   ]
  },
  {
   "cell_type": "markdown",
   "metadata": {},
   "source": [
    "#### **Embarked : Name of the embarked passengers**\n",
    "<a id=\"Embarked\"></a>"
   ]
  },
  {
   "cell_type": "markdown",
   "metadata": {},
   "source": [
    "#### **Survived : Class predicted**\n",
    "<a id=\"Survived\"></a>"
   ]
  }
 ],
 "metadata": {
  "kernelspec": {
   "display_name": "Python 3",
   "language": "python",
   "name": "python3"
  },
  "language_info": {
   "codemirror_mode": {
    "name": "ipython",
    "version": 3
   },
   "file_extension": ".py",
   "mimetype": "text/x-python",
   "name": "python",
   "nbconvert_exporter": "python",
   "pygments_lexer": "ipython3",
   "version": "3.7.3"
  },
  "stem_cell": {
   "cell_type": "raw",
   "metadata": {
    "pycharm": {
     "metadata": false
    }
   },
   "source": ""
  },
  "widgets": {
   "application/vnd.jupyter.widget-state+json": {
    "state": {},
    "version_major": 2,
    "version_minor": 0
   }
  }
 },
 "nbformat": 4,
 "nbformat_minor": 1
}
